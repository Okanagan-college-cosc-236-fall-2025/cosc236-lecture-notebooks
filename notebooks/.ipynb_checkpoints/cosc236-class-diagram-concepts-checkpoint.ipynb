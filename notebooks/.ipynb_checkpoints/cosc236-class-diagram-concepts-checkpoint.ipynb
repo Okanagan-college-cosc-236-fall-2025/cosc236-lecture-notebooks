{
 "cells": [
  {
   "cell_type": "markdown",
   "id": "61117ea8-cbfc-4945-83bb-1b2b0e9ccf63",
   "metadata": {},
   "source": [
    "# Assossiation\n",
    "In Java, association means that two classes are related but neither “owns” the other — they just use each other."
   ]
  },
  {
   "cell_type": "code",
   "execution_count": 1,
   "id": "e4d916be-76c8-4fdc-93b1-09b2d83b71bb",
   "metadata": {},
   "outputs": [],
   "source": [
    "// A Student can be associated with a Course\n",
    "class Student {\n",
    "    private String name;\n",
    "\n",
    "    public Student(String name) {\n",
    "        this.name = name;\n",
    "    }\n",
    "\n",
    "    public String getName() {\n",
    "        return name;\n",
    "    }\n",
    "}\n",
    "\n",
    "class Course {\n",
    "    private String title;\n",
    "\n",
    "    public Course(String title) {\n",
    "        this.title = title;\n",
    "    }\n",
    "\n",
    "    public String getTitle() {\n",
    "        return title;\n",
    "    }\n",
    "\n",
    "    // Association: Student and Course interact\n",
    "    public void enroll(Student student) {\n",
    "        System.out.println(student.getName() + \" has enrolled in \" + this.getTitle());\n",
    "    }\n",
    "}\n",
    "\n"
   ]
  },
  {
   "cell_type": "code",
   "execution_count": 2,
   "id": "d8bfbe99-845c-433d-856b-f4306401d6f4",
   "metadata": {},
   "outputs": [],
   "source": [
    "public class AssociationExample {\n",
    "    public static void main(String[] args) {\n",
    "        Student student = new Student(\"Alice\");\n",
    "        Course course = new Course(\"Software Engineering\");\n",
    "\n",
    "        // The association happens here\n",
    "        course.enroll(student);\n",
    "    }\n",
    "}"
   ]
  },
  {
   "cell_type": "code",
   "execution_count": 3,
   "id": "996a6da7-92aa-4911-8bc9-76bc5f7b63ed",
   "metadata": {},
   "outputs": [
    {
     "name": "stdout",
     "output_type": "stream",
     "text": [
      "Alice has enrolled in Software Engineering\n"
     ]
    }
   ],
   "source": [
    "AssociationExample.main(null);"
   ]
  },
  {
   "cell_type": "code",
   "execution_count": null,
   "id": "68edcf2c-9e28-4583-9276-9d99a2a60ce8",
   "metadata": {},
   "outputs": [],
   "source": []
  },
  {
   "cell_type": "markdown",
   "id": "cd72fb79-edda-458b-ba11-b44498ea6d34",
   "metadata": {},
   "source": [
    "# Example of many-to-many assosation"
   ]
  },
  {
   "cell_type": "code",
   "execution_count": null,
   "id": "d31fe886-1fa4-4326-bea5-fa6d737af806",
   "metadata": {},
   "outputs": [],
   "source": [
    "// Don't run this example of many-to-many\n",
    "\n",
    "\n",
    "import java.util.HashSet;\n",
    "import java.util.Set;\n",
    "\n",
    "// Student.java\n",
    "public class Student {\n",
    "    private String name;\n",
    "    private Set<Course> courses = new HashSet<>();\n",
    "\n",
    "    public Student(String name) {\n",
    "        this.name = name;\n",
    "    }\n",
    "\n",
    "    // add course and update the relationship on both sides\n",
    "    public void enrollInCourse(Course course) {\n",
    "        if (course != null && courses.add(course)) {\n",
    "            course.addStudent(this);\n",
    "        }\n",
    "    }\n",
    "\n",
    "    public void dropCourse(Course course) {\n",
    "        if (course != null && courses.remove(course)) {\n",
    "            course.removeStudent(this);\n",
    "        }\n",
    "    }\n",
    "\n",
    "    public String getName() { return name; }\n",
    "    public Set<Course> getCourses() { return courses; }\n",
    "}"
   ]
  },
  {
   "cell_type": "code",
   "execution_count": null,
   "id": "36dade92-6c92-43cf-bf5f-0f09415dc267",
   "metadata": {},
   "outputs": [],
   "source": [
    "// Course.java\n",
    "import java.util.HashSet;\n",
    "import java.util.Set;\n",
    "\n",
    "public class Course {\n",
    "    private String title;\n",
    "    private Set<Student> students = new HashSet<>();\n",
    "\n",
    "    public Course(String title) {\n",
    "        this.title = title;\n",
    "    }\n",
    "\n",
    "    // add student and update the relationship on both sides\n",
    "    public void addStudent(Student student) {\n",
    "        if (student != null && students.add(student)) {\n",
    "            student.enrollInCourse(this);\n",
    "        }\n",
    "    }\n",
    "\n",
    "    public void removeStudent(Student student) {\n",
    "        if (student != null && students.remove(student)) {\n",
    "            student.dropCourse(this);\n",
    "        }\n",
    "    }\n",
    "\n",
    "    public String getTitle() { return title; }\n",
    "    public Set<Student> getStudents() { return students; }\n",
    "}"
   ]
  },
  {
   "cell_type": "code",
   "execution_count": null,
   "id": "f5738d77-a34f-4a58-b3b2-c002f3817187",
   "metadata": {},
   "outputs": [],
   "source": []
  },
  {
   "cell_type": "code",
   "execution_count": null,
   "id": "485603d4-2b31-4e0c-88d8-8f01190a46af",
   "metadata": {},
   "outputs": [],
   "source": []
  },
  {
   "cell_type": "code",
   "execution_count": null,
   "id": "217c1253-10da-4b1d-99b0-10b3a2cb6076",
   "metadata": {},
   "outputs": [],
   "source": []
  },
  {
   "cell_type": "markdown",
   "id": "251d9c9f-fb47-43ce-ba2d-7cecf46a7854",
   "metadata": {},
   "source": [
    "# IS there another way to implement this idea? "
   ]
  },
  {
   "cell_type": "code",
   "execution_count": null,
   "id": "c96c2cc1-9eed-4b10-8d62-0086a4483c7c",
   "metadata": {},
   "outputs": [],
   "source": []
  },
  {
   "cell_type": "code",
   "execution_count": null,
   "id": "9f00b596-89f4-4647-8882-fd991d611dd2",
   "metadata": {},
   "outputs": [],
   "source": []
  },
  {
   "cell_type": "code",
   "execution_count": null,
   "id": "76fc53b9-cc48-4baf-ab44-c59e698fa87c",
   "metadata": {},
   "outputs": [],
   "source": []
  },
  {
   "cell_type": "code",
   "execution_count": 16,
   "id": "863a5e2c-dc4b-4fc5-9988-594961d63a9a",
   "metadata": {},
   "outputs": [],
   "source": [
    "import java.time.LocalDate;\n",
    "\n",
    "// Enrollment.java (Association Class)\n",
    "public class Enrollment {\n",
    "    private Student student;\n",
    "    private Course course;\n",
    "    private LocalDate enrollmentDate;\n",
    "    private String grade;\n",
    "\n",
    "    public Enrollment(Student student, Course course, LocalDate date) {\n",
    "        this.student = student;\n",
    "        this.course = course;\n",
    "        this.enrollmentDate = date;\n",
    "    }\n",
    "\n",
    "    public Student getStudent() { return student; }\n",
    "    public Course getCourse() { return course; }\n",
    "    public LocalDate getEnrollmentDate() { return enrollmentDate; }\n",
    "    public void setEnrollmentDate(LocalDate date) { this.enrollmentDate = date; }\n",
    "\n",
    "    public String getGrade() { return grade; }\n",
    "    public void setGrade(String grade) { this.grade = grade; }\n",
    "}"
   ]
  },
  {
   "cell_type": "code",
   "execution_count": 17,
   "id": "b8f7808f-1a07-4ecb-bf2b-66a0b39982f1",
   "metadata": {},
   "outputs": [],
   "source": [
    "import java.util.ArrayList;\n",
    "import java.util.List;\n",
    "\n",
    "// Student.java\n",
    "public class Student {\n",
    "    private String name;\n",
    "    private List<Enrollment> enrollments = new ArrayList<>();\n",
    "\n",
    "    public Student(String name) { this.name = name; }\n",
    "\n",
    "    public void enroll(Course course) {\n",
    "        Enrollment enrollment = new Enrollment(this, course, java.time.LocalDate.now());\n",
    "        enrollments.add(enrollment);\n",
    "        course.addEnrollment(enrollment);\n",
    "    }\n",
    "\n",
    "    public String getName() { return name; }\n",
    "    public List<Enrollment> getEnrollments() { return enrollments; }\n",
    "}"
   ]
  },
  {
   "cell_type": "code",
   "execution_count": 18,
   "id": "6febb242-36da-4b4a-915f-7c24a589ad81",
   "metadata": {},
   "outputs": [],
   "source": [
    "import java.util.ArrayList;\n",
    "import java.util.List;\n",
    "\n",
    "// Course.java\n",
    "public class Course {\n",
    "    private String title;\n",
    "    private List<Enrollment> enrollments = new ArrayList<>();\n",
    "\n",
    "    public Course(String title) { this.title = title; }\n",
    "\n",
    "    public void addEnrollment(Enrollment enrollment) {\n",
    "        if (!enrollments.contains(enrollment)) {\n",
    "            enrollments.add(enrollment);\n",
    "        }\n",
    "    }\n",
    "\n",
    "    public String getTitle() { return title; }\n",
    "    public List<Enrollment> getEnrollments() { return enrollments; }\n",
    "}"
   ]
  },
  {
   "cell_type": "code",
   "execution_count": null,
   "id": "c014749d-16e8-4e7c-b286-d4285a8eca0d",
   "metadata": {},
   "outputs": [],
   "source": []
  },
  {
   "cell_type": "code",
   "execution_count": 20,
   "id": "731a7dba-46e4-4465-b09b-c421cba41b6a",
   "metadata": {},
   "outputs": [
    {
     "name": "stdout",
     "output_type": "stream",
     "text": [
      "Alice is enrolled in:\n",
      " - Mathematics (since 2025-09-29)\n",
      " - Physics (since 2025-09-29)\n",
      "Mathematics has students:\n",
      " - Alice\n",
      " - Bob\n"
     ]
    }
   ],
   "source": [
    "// Main.java\n",
    "public class Main {\n",
    "    public static void main(String[] args) {\n",
    "        Student alice = new Student(\"Alice\");\n",
    "        Student bob   = new Student(\"Bob\");\n",
    "\n",
    "        Course math    = new Course(\"Mathematics\");\n",
    "        Course physics = new Course(\"Physics\");\n",
    "\n",
    "        // Enroll students\n",
    "        alice.enroll(math);\n",
    "        alice.enroll(physics);\n",
    "        bob.enroll(math);\n",
    "\n",
    "        // Print Alice's courses via enrollment\n",
    "        System.out.println(alice.getName() + \" is enrolled in:\");\n",
    "        for (Enrollment e : alice.getEnrollments()) {\n",
    "            System.out.println(\" - \" + e.getCourse().getTitle() + \n",
    "                               \" (since \" + e.getEnrollmentDate() + \")\");\n",
    "        }\n",
    "\n",
    "        // Print students in Mathematics\n",
    "        System.out.println(math.getTitle() + \" has students:\");\n",
    "        for (Enrollment e : math.getEnrollments()) {\n",
    "            System.out.println(\" - \" + e.getStudent().getName());\n",
    "        }\n",
    "    }\n",
    "}\n",
    "Main.main(null);"
   ]
  },
  {
   "cell_type": "markdown",
   "id": "249d7a98-0c87-48db-abf0-cb2f3de0024f",
   "metadata": {},
   "source": [
    "## Why use an association class?\n",
    "- Flexibility: We can add properties like enrollment date, grade, status, semester, etc.\n",
    "- Clear modeling: Shows explicitly that the relationship itself has meaning.\n",
    "- Database mapping: In JPA/Hibernate, Enrollment would correspond to a join table with extra columns."
   ]
  },
  {
   "cell_type": "code",
   "execution_count": null,
   "id": "daa0773d-8885-4b33-96e0-7b8295c7e9b2",
   "metadata": {},
   "outputs": [],
   "source": []
  },
  {
   "cell_type": "markdown",
   "id": "36ff43bf-d27c-4ffb-aa48-dd04e76bf478",
   "metadata": {},
   "source": [
    "# Composition\n",
    "In composition, the whole owns the part’s lifecycle: if the whole is gone, the part shouldn’t exist independently."
   ]
  },
  {
   "cell_type": "code",
   "execution_count": 4,
   "id": "8c2229a7-9500-4aeb-9d69-fd50abae209e",
   "metadata": {},
   "outputs": [],
   "source": [
    "// Part: Engine (meant to exist only inside a Car)\n",
    "final class Engine {\n",
    "    private boolean running;\n",
    "\n",
    "    void start() {\n",
    "        running = true;\n",
    "        System.out.println(\"Engine started.\");\n",
    "    }\n",
    "\n",
    "    void stop() {\n",
    "        running = false;\n",
    "        System.out.println(\"Engine stopped.\");\n",
    "    }\n",
    "\n",
    "    boolean isRunning() { return running; }\n",
    "}\n",
    "\n",
    "// Whole: Car owns its Engine\n",
    "class Car {\n",
    "    private final Engine engine; // created and owned by Car\n",
    "\n",
    "    public Car() {\n",
    "        this.engine = new Engine();   // Part created inside the whole\n",
    "    }\n",
    "\n",
    "    public void start() {\n",
    "        engine.start();               // delegate to part\n",
    "        System.out.println(\"Car is moving.\");\n",
    "    }\n",
    "\n",
    "    public void stop() {\n",
    "        engine.stop();\n",
    "        System.out.println(\"Car is parked.\");\n",
    "    }\n",
    "\n",
    "    // No setter exposing Engine; optional controlled access:\n",
    "    public boolean isEngineRunning() { return engine.isRunning(); }\n",
    "}\n",
    "\n",
    "public class CompositionExample {\n",
    "    public static void main(String[] args) {\n",
    "        Car car = new Car();          // Engine is created with Car\n",
    "        car.start();\n",
    "        System.out.println(\"Engine running? \" + car.isEngineRunning());\n",
    "        car.stop();\n",
    "    }\n",
    "}"
   ]
  },
  {
   "cell_type": "code",
   "execution_count": 5,
   "id": "d8e5526d-dee1-4ef5-b222-7508d373491a",
   "metadata": {},
   "outputs": [
    {
     "name": "stdout",
     "output_type": "stream",
     "text": [
      "Engine started.\n",
      "Car is moving.\n",
      "Engine running? true\n",
      "Engine stopped.\n",
      "Car is parked.\n"
     ]
    }
   ],
   "source": [
    "CompositionExample.main(null);"
   ]
  },
  {
   "cell_type": "markdown",
   "id": "3deb3173-c47a-40c8-95b7-bda2fcd9a76e",
   "metadata": {},
   "source": [
    "# Aggregation\n",
    "Aggregation is a “has-a” relationship where the whole and the part can exist independently.\n",
    "Example: A Department has many Students, but if the Department is deleted, the Students can still exist."
   ]
  },
  {
   "cell_type": "code",
   "execution_count": 6,
   "id": "f3859a6e-76af-4be8-84e3-7bbf18a33878",
   "metadata": {},
   "outputs": [],
   "source": [
    "// Part class: Student\n",
    "class Student {\n",
    "    private String name;\n",
    "\n",
    "    public Student(String name) {\n",
    "        this.name = name;\n",
    "    }\n",
    "\n",
    "    public String getName() {\n",
    "        return name;\n",
    "    }\n",
    "}\n",
    "\n",
    "// Whole class: Department\n",
    "import java.util.List;\n",
    "\n",
    "class Department {\n",
    "    private String name;\n",
    "    private List<Student> students;  // Aggregation: list of students\n",
    "\n",
    "    public Department(String name, List<Student> students) {\n",
    "        this.name = name;\n",
    "        this.students = students;\n",
    "    }\n",
    "\n",
    "    public void showStudents() {\n",
    "        System.out.println(\"Department: \" + name);\n",
    "        for (Student s : students) {\n",
    "            System.out.println(\" - \" + s.getName());\n",
    "        }\n",
    "    }\n",
    "}\n",
    "\n",
    "// Demo\n",
    "import java.util.Arrays;\n",
    "\n",
    "public class AggregationExample {\n",
    "    public static void main(String[] args) {\n",
    "        // Students exist independently\n",
    "        Student s1 = new Student(\"Alice\");\n",
    "        Student s2 = new Student(\"Bob\");\n",
    "\n",
    "        // They can be grouped into a Department\n",
    "        Department dept = new Department(\"Computer Science\", Arrays.asList(s1, s2));\n",
    "\n",
    "        dept.showStudents();\n",
    "    }\n",
    "}"
   ]
  },
  {
   "cell_type": "code",
   "execution_count": 7,
   "id": "897b7d6f-1e2d-43b3-bf60-1145ef92a169",
   "metadata": {},
   "outputs": [
    {
     "name": "stdout",
     "output_type": "stream",
     "text": [
      "Department: Computer Science\n",
      " - Alice\n",
      " - Bob\n"
     ]
    }
   ],
   "source": [
    "AggregationExample.main(null);"
   ]
  },
  {
   "cell_type": "markdown",
   "id": "0d289597-dddb-4450-b4d8-e194a6e30ac8",
   "metadata": {},
   "source": [
    "# Realization\n"
   ]
  },
  {
   "cell_type": "code",
   "execution_count": 8,
   "id": "a3651424-b2c4-467d-9a64-8e9e92bc5681",
   "metadata": {},
   "outputs": [],
   "source": [
    "public interface Payment{\n",
    "    void pay(double amount);\n",
    "}\n",
    "\n",
    "public class CreditCardPayment implements Payment{\n",
    "    \n",
    "    @Override\n",
    "    public void pay(double amount){\n",
    "        System.out.println(\"credit card payment of \" + amount);\n",
    "    }\n",
    "}\n",
    "\n",
    "public class DebitPayment implements Payment{\n",
    "    @Override\n",
    "    public void pay(double amount){\n",
    "        System.out.println(\"debit card payment of \" + amount);\n",
    "    }\n",
    "}"
   ]
  },
  {
   "cell_type": "code",
   "execution_count": 13,
   "id": "80ad6cef-bfd9-4675-bd47-0c4d3ea80be9",
   "metadata": {},
   "outputs": [],
   "source": [
    "public class RealizationExample {\n",
    "    public static void main(String[] args) {\n",
    "        Payment p1 = new CreditCardPayment();\n",
    "        Payment p2 = new DebitPayment();\n",
    "\n",
    "        p1.pay(100.00);\n",
    "        p2.pay(200.0);\n",
    "    }\n",
    "}"
   ]
  },
  {
   "cell_type": "code",
   "execution_count": 14,
   "id": "2f0acdc0-5ca1-4b4d-9bd8-15bcab839fad",
   "metadata": {},
   "outputs": [
    {
     "name": "stdout",
     "output_type": "stream",
     "text": [
      "credit card payment of 100.0\n",
      "debit card payment of 200.0\n"
     ]
    }
   ],
   "source": [
    "RealizationExample.main(null);"
   ]
  },
  {
   "cell_type": "code",
   "execution_count": null,
   "id": "7a283a61-dde7-4a43-b575-4506d53ba306",
   "metadata": {},
   "outputs": [],
   "source": [
    "\n"
   ]
  }
 ],
 "metadata": {
  "kernelspec": {
   "display_name": "Java",
   "language": "java",
   "name": "java"
  },
  "language_info": {
   "codemirror_mode": "java",
   "file_extension": ".jshell",
   "mimetype": "text/x-java-source",
   "name": "Java",
   "pygments_lexer": "java",
   "version": "23.0.1+11-39"
  }
 },
 "nbformat": 4,
 "nbformat_minor": 5
}
