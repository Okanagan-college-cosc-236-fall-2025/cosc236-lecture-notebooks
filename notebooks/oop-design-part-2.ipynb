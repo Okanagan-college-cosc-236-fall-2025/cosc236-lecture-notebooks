{
 "cells": [
  {
   "cell_type": "code",
   "execution_count": 1,
   "id": "e869e08a-6f6b-4df6-9132-d6450a581a76",
   "metadata": {},
   "outputs": [],
   "source": [
    "public class Parent{\n",
    "    public Parent(){};\n",
    "}"
   ]
  },
  {
   "cell_type": "code",
   "execution_count": 10,
   "id": "ef36d24b-8209-4de1-92a2-eb7fe0e0d671",
   "metadata": {},
   "outputs": [],
   "source": [
    "public class GoodChild extends Parent{\n",
    "    public GoodChild(){\n",
    "        super();\n",
    "    }\n",
    "}"
   ]
  },
  {
   "cell_type": "code",
   "execution_count": 11,
   "id": "d015b8b8-8c07-41cc-ba2b-aa7838c409d4",
   "metadata": {},
   "outputs": [],
   "source": [
    "public class BadChild extends Parent{\n",
    "    public BadChild(){\n",
    "        super();\n",
    "    }\n",
    "    public void saySomething(){\n",
    "        System.out.println(\"Bad words\");\n",
    "    }\n",
    "}"
   ]
  },
  {
   "cell_type": "code",
   "execution_count": 12,
   "id": "513645ae-352d-42b3-a607-5a71c42c26cf",
   "metadata": {},
   "outputs": [],
   "source": [
    "BadChild bad = new BadChild();"
   ]
  },
  {
   "cell_type": "code",
   "execution_count": 13,
   "id": "c118cee2-40f9-43b4-87d6-077bd3f254ad",
   "metadata": {},
   "outputs": [
    {
     "name": "stdout",
     "output_type": "stream",
     "text": [
      "Bad words\n"
     ]
    }
   ],
   "source": [
    "bad.saySomething();"
   ]
  },
  {
   "cell_type": "code",
   "execution_count": null,
   "id": "a13254a0-9d0c-4b12-b362-bd7e059c0db3",
   "metadata": {},
   "outputs": [],
   "source": []
  },
  {
   "cell_type": "code",
   "execution_count": 32,
   "id": "ea3e7235-3bc8-4616-9800-34d873622e3b",
   "metadata": {},
   "outputs": [],
   "source": [
    "public class Payment{\n",
    "    public Payment(){};\n",
    "    public void pay(int amount){\n",
    "        System.out.println(\"The payment amount of \" + amount);\n",
    "    }\n",
    "}\n",
    "\n",
    "public class DebitPayment extends Payment{\n",
    "    public DebitPayment(){\n",
    "        super();\n",
    "    }\n",
    "    @Override\n",
    "    public void pay(int amount){\n",
    "        if(amount > 50){\n",
    "            throw new IllegalArgumentException(\"Debit limit exceeded (max 50).\");\n",
    "        }\n",
    "        System.out.println(\"You are about to pay \" + amount + \" from your credit\");\n",
    "    }\n",
    "    \n",
    "}"
   ]
  },
  {
   "cell_type": "code",
   "execution_count": 36,
   "id": "d61ebc6d-4f0b-4090-97b2-2cf3b20dc47a",
   "metadata": {},
   "outputs": [],
   "source": [
    "Payment payment = new DebitPayment();"
   ]
  },
  {
   "cell_type": "code",
   "execution_count": 37,
   "id": "19ab048a-b3eb-47c9-aa75-96de674fc431",
   "metadata": {},
   "outputs": [
    {
     "ename": "EvalException",
     "evalue": "Debit limit exceeded (max 50).",
     "output_type": "error",
     "traceback": [
      "\u001b[1m\u001b[31m---------------------------------------------------------------------------\u001b[0m",
      "\u001b[1m\u001b[31mjava.lang.IllegalArgumentException: Debit limit exceeded (max 50).\u001b[0m",
      "\u001b[1m\u001b[31m\tat DebitPayment.pay(#21:1)\u001b[0m",
      "\u001b[1m\u001b[31m\tat .(#30:2)\u001b[0m"
     ]
    }
   ],
   "source": [
    "// client code\n",
    "payment.pay(100);"
   ]
  },
  {
   "cell_type": "code",
   "execution_count": null,
   "id": "37da760a-50eb-462d-892c-790c45d214c6",
   "metadata": {},
   "outputs": [],
   "source": []
  },
  {
   "cell_type": "code",
   "execution_count": null,
   "id": "a1502022-99cc-4312-a3e7-3d27af5d9f57",
   "metadata": {},
   "outputs": [],
   "source": []
  },
  {
   "cell_type": "code",
   "execution_count": 38,
   "id": "206fd51f-559b-402b-b336-30af5fc4c7f6",
   "metadata": {},
   "outputs": [],
   "source": [
    "public interface Notifier{\n",
    "    public void send(String to, String message);\n",
    "}"
   ]
  },
  {
   "cell_type": "code",
   "execution_count": 40,
   "id": "12cc2a15-f26e-42ea-b2eb-143987af23b2",
   "metadata": {},
   "outputs": [],
   "source": [
    "public class EmailNotifier implements Notifier{\n",
    "    public EmailNotifier(){\n",
    "        \n",
    "    };\n",
    "    @Override\n",
    "    public void send(String to, String message){\n",
    "        System.out.println(message + \" sent to: \" + to);\n",
    "    };\n",
    "}"
   ]
  },
  {
   "cell_type": "code",
   "execution_count": 42,
   "id": "0c893075-20f0-412a-a914-2ccbfe938b16",
   "metadata": {},
   "outputs": [
    {
     "name": "stdout",
     "output_type": "stream",
     "text": [
      "Hello sent to: example@example.com\n"
     ]
    }
   ],
   "source": [
    "Notifier notifier = new EmailNotifier();\n",
    "notifier.send(\"example@example.com\", \"Hello\");"
   ]
  },
  {
   "cell_type": "code",
   "execution_count": null,
   "id": "acefb4d3-8036-46bb-9909-f0b961c57d12",
   "metadata": {},
   "outputs": [],
   "source": []
  },
  {
   "cell_type": "code",
   "execution_count": null,
   "id": "adc4b899-f864-4b39-9bd8-d716527c35fa",
   "metadata": {},
   "outputs": [],
   "source": []
  },
  {
   "cell_type": "code",
   "execution_count": null,
   "id": "7fff5e5d-7ae1-4448-9125-0a3699c7a3db",
   "metadata": {},
   "outputs": [],
   "source": []
  },
  {
   "cell_type": "code",
   "execution_count": null,
   "id": "c43bf1b2-df4b-4ed0-a10d-bede95ff65aa",
   "metadata": {},
   "outputs": [],
   "source": []
  },
  {
   "cell_type": "code",
   "execution_count": 4,
   "id": "d86e7b3a-684b-4459-9e7c-4f28d1a73b98",
   "metadata": {},
   "outputs": [],
   "source": [
    "public class Payment{\n",
    "    public Payment(){};\n",
    "    public void pay(int amount){\n",
    "        System.out.println(\"You are going to pay \" + amount);\n",
    "    }\n",
    "    \n",
    "}"
   ]
  },
  {
   "cell_type": "code",
   "execution_count": 18,
   "id": "f469a802-43cc-441a-8b03-72d5b05c0512",
   "metadata": {},
   "outputs": [],
   "source": [
    "public class DebitPayment extends Payment{\n",
    "    public DebitPayment(){\n",
    "        super();\n",
    "    }\n",
    "    @Override\n",
    "    public void pay(int amount){\n",
    "        System.out.println(\"You are going to pay \" + amount+ \" With your credit\");\n",
    "    }\n",
    "} "
   ]
  },
  {
   "cell_type": "code",
   "execution_count": 17,
   "id": "acb275c0-679f-45ac-b2ef-1ac56a70176b",
   "metadata": {},
   "outputs": [
    {
     "name": "stdout",
     "output_type": "stream",
     "text": [
      "You are going to pay 10\n"
     ]
    }
   ],
   "source": [
    "Payment dpay = new Payment();\n",
    "dpay.pay(10);"
   ]
  },
  {
   "cell_type": "markdown",
   "id": "1d77fbab-19ec-4d81-933a-a7edfe64069c",
   "metadata": {},
   "source": [
    "# What if we handle an exception in the sub class "
   ]
  },
  {
   "cell_type": "code",
   "execution_count": 22,
   "id": "968dfe33-8408-4523-a767-1a723394a8fe",
   "metadata": {},
   "outputs": [],
   "source": [
    "public class DebitPayment extends Payment {\n",
    "    public DebitPayment() {\n",
    "        super(); // optional\n",
    "    }\n",
    "\n",
    "    @Override\n",
    "    public void pay(int amount) {\n",
    "        if (amount < 0) {\n",
    "            throw new IllegalArgumentException(\"Amount cannot be negative.\");\n",
    "        }\n",
    "        if (amount > 50) {\n",
    "            throw new IllegalArgumentException(\"Debit limit exceeded (max 50).\");\n",
    "        }\n",
    "        System.out.println(\"You are going to pay \" + amount + \" with your debit\");\n",
    "    }\n",
    "}"
   ]
  },
  {
   "cell_type": "code",
   "execution_count": 24,
   "id": "bca9c3fa-be8a-4ac7-affc-e10e43b7f046",
   "metadata": {},
   "outputs": [
    {
     "ename": "EvalException",
     "evalue": "Amount cannot be negative.",
     "output_type": "error",
     "traceback": [
      "\u001b[1m\u001b[31m---------------------------------------------------------------------------\u001b[0m",
      "\u001b[1m\u001b[31mjava.lang.IllegalArgumentException: Amount cannot be negative.\u001b[0m",
      "\u001b[1m\u001b[31m\tat DebitPayment.pay(#14:9)\u001b[0m",
      "\u001b[1m\u001b[31m\tat .(#23:1)\u001b[0m"
     ]
    }
   ],
   "source": [
    "Payment dpay = new Payment();\n",
    "dpay.pay(10);"
   ]
  },
  {
   "cell_type": "code",
   "execution_count": null,
   "id": "75310ba2-4e34-4122-be73-228839d7b684",
   "metadata": {},
   "outputs": [],
   "source": []
  },
  {
   "cell_type": "markdown",
   "id": "b01ef48a-d477-4584-a35d-ff6838019ebe",
   "metadata": {},
   "source": [
    "# Abstract Class and Interface"
   ]
  },
  {
   "cell_type": "code",
   "execution_count": 2,
   "id": "44c996be-5b40-42f0-a410-f1c0ba73d2e2",
   "metadata": {},
   "outputs": [],
   "source": [
    "// Abstract class\n",
    "public abstract class Vehicle {\n",
    "    protected String brand;\n",
    "\n",
    "    public Vehicle(String brand) {\n",
    "        this.brand = brand;\n",
    "    }\n",
    "\n",
    "    // Abstract method (must be implemented by subclasses)\n",
    "    public abstract void startEngine();\n",
    "\n",
    "    // Concrete method (has a body)\n",
    "    public void stopEngine() {\n",
    "        System.out.println(brand + \" engine stopped.\");\n",
    "    }\n",
    "}\n",
    "\n",
    "// Subclass extending abstract class\n",
    "public class Car extends Vehicle {\n",
    "    public Car(String brand) {\n",
    "        super(brand);\n",
    "    }\n",
    "\n",
    "    @Override\n",
    "    public void startEngine() {\n",
    "        System.out.println(brand + \" car engine started with a key.\");\n",
    "    }\n",
    "}"
   ]
  },
  {
   "cell_type": "code",
   "execution_count": 7,
   "id": "737c30a3-1143-4a26-af94-218bbbc17dde",
   "metadata": {},
   "outputs": [],
   "source": [
    "// Interface\n",
    "public interface Electric {\n",
    "    void chargeBattery();\n",
    "\n",
    "}\n",
    "\n",
    "// Class implementing interface\n",
    "public class ElectricCar extends Car implements Electric {\n",
    "    public ElectricCar(String brand) {\n",
    "        super(brand);\n",
    "    }\n",
    "\n",
    "    @Override\n",
    "    public void chargeBattery() {\n",
    "        System.out.println(brand + \" is charging its battery...\");\n",
    "    }\n",
    "}"
   ]
  },
  {
   "cell_type": "code",
   "execution_count": 9,
   "id": "02f4d6d8-30bf-476a-bd3b-7517550f6d0b",
   "metadata": {},
   "outputs": [
    {
     "name": "stdout",
     "output_type": "stream",
     "text": [
      "Toyota car engine started with a key.\n",
      "Toyota engine stopped.\n",
      "Tesla car engine started with a key.\n",
      "Tesla is charging its battery...\n",
      "Tesla engine stopped.\n"
     ]
    }
   ],
   "source": [
    "Car car = new Car(\"Toyota\");\n",
    "car.startEngine();\n",
    "car.stopEngine();\n",
    "\n",
    "ElectricCar eCar = new ElectricCar(\"Tesla\");\n",
    "eCar.startEngine();\n",
    "eCar.chargeBattery();\n",
    "eCar.stopEngine();"
   ]
  },
  {
   "cell_type": "code",
   "execution_count": null,
   "id": "39676e70-813f-47ce-b2f2-b63452a959c9",
   "metadata": {},
   "outputs": [],
   "source": []
  },
  {
   "cell_type": "code",
   "execution_count": null,
   "id": "afbd6405-e08b-4e61-b568-c57b0fa828d6",
   "metadata": {},
   "outputs": [],
   "source": []
  },
  {
   "cell_type": "code",
   "execution_count": null,
   "id": "b412a1c9-a4f4-434a-b9f8-049be7fcd9bc",
   "metadata": {},
   "outputs": [],
   "source": []
  },
  {
   "cell_type": "markdown",
   "id": "611ed5c6-f340-442d-be47-a023a9862f03",
   "metadata": {},
   "source": [
    "# Providing Interface"
   ]
  },
  {
   "cell_type": "code",
   "execution_count": 43,
   "id": "f2e07de8-6f71-4865-96c4-a55d47e8609f",
   "metadata": {},
   "outputs": [],
   "source": [
    "public interface Notifier{\n",
    "    public void send(String to, String message);\n",
    "}\n"
   ]
  },
  {
   "cell_type": "code",
   "execution_count": 48,
   "id": "d1924ade-8b7c-4ec5-bf9d-b3e50adb83d8",
   "metadata": {},
   "outputs": [],
   "source": [
    "public class EmailNotifier implements Notifier {\n",
    "    @Override\n",
    "    public void send(String to, String message) {\n",
    "        System.out.println(\"Email to \" + to + \": \" + message);\n",
    "    }\n",
    "}\n",
    "\n",
    "public class SmsNotifier implements Notifier {\n",
    "    @Override\n",
    "    public void send(String to, String message) {\n",
    "        System.out.println(\"SMS to \" + to + \": \" + message);\n",
    "    }\n",
    "}\n"
   ]
  },
  {
   "cell_type": "code",
   "execution_count": 49,
   "id": "f096f235-03e0-4091-81e2-ddee2f8e3d8c",
   "metadata": {},
   "outputs": [],
   "source": [
    "public class OrderService {\n",
    "    private final Notifier notify;\n",
    "    public OrderService(Notifier n){\n",
    "        this.notify = n;\n",
    "    }\n",
    "    public void serveOrder(String userEmail){\n",
    "        this.notify.send(userEmail, \"The service is complited\");\n",
    "        \n",
    "    }\n",
    "\n",
    "    \n",
    "}"
   ]
  },
  {
   "cell_type": "code",
   "execution_count": 51,
   "id": "3c359dd6-44f5-4bdf-a94f-d8dceef2786c",
   "metadata": {},
   "outputs": [
    {
     "name": "stdout",
     "output_type": "stream",
     "text": [
      "SMS to user@example.com: The service is complited\n"
     ]
    }
   ],
   "source": [
    "Notifier notifier = new SmsNotifier();    \n",
    "OrderService service = new OrderService(notifier);\n",
    "service.serveOrder(\"user@example.com\");"
   ]
  },
  {
   "cell_type": "markdown",
   "id": "2c12142a-93ac-4dab-95b3-6de9653e7173",
   "metadata": {},
   "source": [
    "# Requiring Interface    "
   ]
  },
  {
   "cell_type": "code",
   "execution_count": 13,
   "id": "44c6a05c-8009-43db-aa8c-9531d5a8fa0e",
   "metadata": {},
   "outputs": [],
   "source": [
    "// Class REQUIRES the interface: depends on a Notifier instance\n",
    "public class OrderService {\n",
    "    private final Notifier notifier;   // dependency on the interface\n",
    "\n",
    "    public OrderService(Notifier notifier) { \n",
    "        this.notifier = notifier;\n",
    "    }\n",
    "\n",
    "    public void placeOrder(String userEmail) {\n",
    "        notifier.send(userEmail, \"Your order was placed.\");\n",
    "    }\n",
    "}"
   ]
  },
  {
   "cell_type": "code",
   "execution_count": 14,
   "id": "5586032e-1dcc-4dd0-8de8-91c69817f164",
   "metadata": {},
   "outputs": [
    {
     "name": "stdout",
     "output_type": "stream",
     "text": [
      "Email to user@example.com: Your order was placed.\n"
     ]
    }
   ],
   "source": [
    "Notifier notifier = new EmailNotifier();    \n",
    "OrderService service = new OrderService(notifier);\n",
    "service.placeOrder(\"user@example.com\");"
   ]
  },
  {
   "cell_type": "code",
   "execution_count": null,
   "id": "0b0895c1-9cae-42cb-8732-89695a1d52c6",
   "metadata": {},
   "outputs": [],
   "source": []
  },
  {
   "cell_type": "code",
   "execution_count": null,
   "id": "4ee931e0-f34d-41e0-9bb3-722116721aab",
   "metadata": {},
   "outputs": [],
   "source": []
  },
  {
   "cell_type": "code",
   "execution_count": null,
   "id": "f1cc84cf-af77-448d-a068-ba68529ca446",
   "metadata": {},
   "outputs": [],
   "source": []
  },
  {
   "cell_type": "code",
   "execution_count": 52,
   "id": "9a819379-5a5e-40ef-b2ae-b85d097227d9",
   "metadata": {},
   "outputs": [],
   "source": [
    "import java.util.LinkedList;\n",
    "import java.util.List;\n",
    "\n",
    "public class LinkedListExample {\n",
    "    public static void main(String[] args) {\n",
    "        List<String> fruits = new LinkedList<>();\n",
    "\n",
    "        fruits.add(\"Apple\");    // from List.add()\n",
    "        fruits.add(\"Banana\");\n",
    "        fruits.add(\"Cherry\");\n",
    "\n",
    "        System.out.println(fruits.get(1));   // from List.get()\n",
    "        System.out.println(fruits.equals(List.of(\"Apple\", \"Banana\", \"Cherry\"))); // from AbstractList.equals()\n",
    "    }\n",
    "}"
   ]
  },
  {
   "cell_type": "code",
   "execution_count": 53,
   "id": "6f131fcc-b952-4a25-83de-211b5f782ea5",
   "metadata": {},
   "outputs": [
    {
     "name": "stdout",
     "output_type": "stream",
     "text": [
      "Banana\n",
      "true\n"
     ]
    }
   ],
   "source": [
    "LinkedListExample.main(null);"
   ]
  },
  {
   "cell_type": "code",
   "execution_count": null,
   "id": "2fa31579-fbc0-4422-865f-032dc98dd729",
   "metadata": {},
   "outputs": [],
   "source": []
  },
  {
   "cell_type": "code",
   "execution_count": null,
   "id": "296da042-11be-45e8-8698-f099570747cc",
   "metadata": {},
   "outputs": [],
   "source": []
  },
  {
   "cell_type": "code",
   "execution_count": 56,
   "id": "e1a36013-1b6b-4257-96fe-3722cd64e9ee",
   "metadata": {},
   "outputs": [],
   "source": [
    "import java.util.*;\n",
    "\n",
    "\n",
    "class Item {\n",
    "    final String sku;\n",
    "    final int qty;\n",
    "    Item(String sku, int qty) { this.sku = sku; this.qty = qty; }\n",
    "\n",
    "    @Override public String toString() { return sku + \" x\" + qty; }\n",
    "}\n",
    "\n",
    "\n",
    "class Order {\n",
    "    private final List<Item> lineItems = new LinkedList<>();   //Replace this with LinkedList\n",
    "\n",
    "    public void addItem(Item i) { lineItems.add(i); }         \n",
    "    public Item getItem(int index) { return lineItems.get(index); } \n",
    "    public boolean contains(Item i) { return lineItems.contains(i); } \n",
    "    public int size() { return lineItems.size(); }\n",
    "    @Override public String toString() { return \"Order\" + lineItems; }\n",
    "}\n",
    "\n",
    "public class Main {\n",
    "    public static void main(String[] args) {\n",
    "        Order order = new Order();\n",
    "        order.addItem(new Item(\"A-100\", 2));\n",
    "        order.addItem(new Item(\"B-200\", 1));\n",
    "        System.out.println(order);\n",
    "        System.out.println(\"First item: \" + order.getItem(0));\n",
    "        System.out.println(\"Size: \" + order.size());\n",
    "    }\n",
    "}"
   ]
  },
  {
   "cell_type": "code",
   "execution_count": 57,
   "id": "1d8e6ca9-33c9-4a85-8d07-f056d7f3768a",
   "metadata": {},
   "outputs": [
    {
     "name": "stdout",
     "output_type": "stream",
     "text": [
      "Order[A-100 x2, B-200 x1]\n",
      "First item: A-100 x2\n",
      "Size: 2\n"
     ]
    }
   ],
   "source": [
    "Main.main(null);"
   ]
  },
  {
   "cell_type": "code",
   "execution_count": null,
   "id": "9326b5bf-6a9a-4de5-bc2a-46b41c177c26",
   "metadata": {},
   "outputs": [],
   "source": []
  },
  {
   "cell_type": "code",
   "execution_count": null,
   "id": "53413533-af45-4781-a6b5-d58bf623f352",
   "metadata": {},
   "outputs": [],
   "source": []
  },
  {
   "cell_type": "code",
   "execution_count": null,
   "id": "94202553-518e-44a7-bab2-7f68afddd9d0",
   "metadata": {},
   "outputs": [],
   "source": []
  },
  {
   "cell_type": "markdown",
   "id": "68b4b503-5d43-4e91-8736-360a4cd34d2e",
   "metadata": {},
   "source": [
    "# Enum implementaiton"
   ]
  },
  {
   "cell_type": "code",
   "execution_count": 5,
   "id": "7f12d9de-4783-4a32-8083-9484d9336404",
   "metadata": {},
   "outputs": [],
   "source": [
    "enum Day {\n",
    "    MON, TUE, WED, THU, FRI, SAT, SUN\n",
    "}\n",
    "\n",
    "public class Demo1 {\n",
    "    public static void main(String[] args) {\n",
    "        Day today = Day.SAT;\n",
    "\n",
    "        switch (today) {\n",
    "            case SAT, SUN -> System.out.println(\"Weekend\");\n",
    "            default       -> System.out.println(\"Work day\");\n",
    "        }\n",
    "    }\n",
    "}"
   ]
  },
  {
   "cell_type": "code",
   "execution_count": 6,
   "id": "d38309f6-5f0a-448a-be49-b69f5164e4e0",
   "metadata": {},
   "outputs": [
    {
     "name": "stdout",
     "output_type": "stream",
     "text": [
      "Weekend\n"
     ]
    }
   ],
   "source": [
    "Demo1.main(null);"
   ]
  },
  {
   "cell_type": "code",
   "execution_count": 7,
   "id": "83eb9d34-00cf-4f3d-bbad-f68dc352e5d0",
   "metadata": {},
   "outputs": [],
   "source": [
    "enum Priority {\n",
    "    LOW(1), MEDIUM(2), HIGH(3), CRITICAL(4);\n",
    "\n",
    "    private final int level;\n",
    "\n",
    "    Priority(int level) { this.level = level; }\n",
    "\n",
    "    public int level() { return level; }\n",
    "\n",
    "    public boolean isHigherThan(Priority other) {\n",
    "        return this.level > other.level;\n",
    "    }\n",
    "}\n",
    "\n",
    "public class Demo2 {\n",
    "    public static void main(String[] args) {\n",
    "        Priority p = Priority.HIGH;\n",
    "        System.out.println(p + \" (\" + p.level() + \")\");\n",
    "        System.out.println(\"Higher than MEDIUM? \" + p.isHigherThan(Priority.MEDIUM));\n",
    "    }\n",
    "}"
   ]
  },
  {
   "cell_type": "code",
   "execution_count": 8,
   "id": "664ba1a6-4452-489f-8874-8ccfddf39600",
   "metadata": {},
   "outputs": [
    {
     "name": "stdout",
     "output_type": "stream",
     "text": [
      "HIGH (3)\n",
      "Higher than MEDIUM? true\n"
     ]
    }
   ],
   "source": [
    "Demo2.main(null);"
   ]
  },
  {
   "cell_type": "code",
   "execution_count": null,
   "id": "4e477753-7581-4eef-9067-d66e97b652c8",
   "metadata": {},
   "outputs": [],
   "source": []
  }
 ],
 "metadata": {
  "kernelspec": {
   "display_name": "Java",
   "language": "java",
   "name": "java"
  },
  "language_info": {
   "codemirror_mode": "java",
   "file_extension": ".jshell",
   "mimetype": "text/x-java-source",
   "name": "Java",
   "pygments_lexer": "java",
   "version": "23.0.1+11-39"
  }
 },
 "nbformat": 4,
 "nbformat_minor": 5
}
