{
 "cells": [
  {
   "cell_type": "code",
   "execution_count": null,
   "id": "7e215041-dca8-44f8-af11-fa26901d6e8d",
   "metadata": {},
   "outputs": [],
   "source": []
  },
  {
   "cell_type": "code",
   "execution_count": 2,
   "id": "6b816390-217b-4d1d-ad9f-d4143275da9c",
   "metadata": {},
   "outputs": [
    {
     "ename": "CompilationException",
     "evalue": "",
     "output_type": "error",
     "traceback": [
      "\u001b[1m\u001b[30m|   \u001b[1m\u001b[30m// Car.java\u001b[0m",
      "\u001b[1m\u001b[30m|   \u001b[1m\u001b[30mpublic class Car {\u001b[0m",
      "\u001b[1m\u001b[30m|   \u001b[1m\u001b[30m    private String model;\u001b[0m",
      "\u001b[1m\u001b[30m|   \u001b[1m\u001b[30m    private Owner owner; // Reference to the owner\u001b[0m",
      "\u001b[1m\u001b[30m|   \u001b[1m\u001b[30m\u001b[0m",
      "\u001b[1m\u001b[30m|   \u001b[1m\u001b[30m    // Constructor\u001b[0m",
      "\u001b[1m\u001b[30m|   \u001b[1m\u001b[30m    public Car(String model) {\u001b[0m",
      "\u001b[1m\u001b[30m|   \u001b[1m\u001b[30m        this.model = model;\u001b[0m",
      "\u001b[1m\u001b[30m|   \u001b[1m\u001b[30m    }\u001b[0m",
      "\u001b[1m\u001b[30m|   \u001b[1m\u001b[30m\u001b[0m",
      "\u001b[1m\u001b[30m|   \u001b[1m\u001b[30m    // Getters and Setters\u001b[0m",
      "\u001b[1m\u001b[30m|   \u001b[1m\u001b[30m    public Person getOwner() {\u001b[0m",
      "\u001b[1m\u001b[30m|   \u001b[1m\u001b[30m        return owner;\u001b[0m",
      "\u001b[1m\u001b[30m|   \u001b[1m\u001b[30m    }\u001b[0m",
      "\u001b[1m\u001b[30m|   \u001b[1m\u001b[30m\u001b[0m",
      "\u001b[1m\u001b[30m|   \u001b[1m\u001b[30m    public void setOwner(Person owner) {\u001b[0m",
      "\u001b[1m\u001b[30m|   \u001b[1m\u001b[30m        this.owner = owner;\u001b[0m",
      "\u001b[1m\u001b[30m|   \u001b[1m\u001b[30m    }\u001b[0m",
      "\u001b[1m\u001b[30m|   \u001b[1m\u001b[30m\u001b[0m",
      "\u001b[1m\u001b[30m|   \u001b[1m\u001b[30m    public String getModel() {\u001b[0m",
      "\u001b[1m\u001b[30m|   \u001b[1m\u001b[30m        return model;\u001b[0m",
      "\u001b[1m\u001b[30m|   \u001b[1m\u001b[30m    }\u001b[0m",
      "\u001b[1m\u001b[30m|   \u001b[1m\u001b[30m\u001b[0m",
      "\u001b[1m\u001b[30m|   \u001b[1m\u001b[30m    public void setModel(String model) {\u001b[0m",
      "\u001b[1m\u001b[30m|   \u001b[1m\u001b[30m        this.model = model;\u001b[0m",
      "\u001b[1m\u001b[30m|   \u001b[1m\u001b[30m    }\u001b[0m",
      "\u001b[1m\u001b[30m|   \u001b[1m\u001b[30m}\u001b[0m",
      "\u001b[1m\u001b[31mUnresolved dependencies:\u001b[0m",
      "\u001b[1m\u001b[31m   - class Owner\u001b[0m",
      "\u001b[1m\u001b[31m   - class Person\u001b[0m"
     ]
    }
   ],
   "source": [
    "// Car.java\n",
    "public class Car {\n",
    "    private String model;\n",
    "    private Owner owner; // Reference to the owner\n",
    "\n",
    "    // Constructor\n",
    "    public Car(String model) {\n",
    "        this.model = model;\n",
    "    }\n",
    "\n",
    "    // Getters and Setters\n",
    "    public Person getOwner() {\n",
    "        return owner;\n",
    "    }\n",
    "\n",
    "    public void setOwner(Person owner) {\n",
    "        this.owner = owner;\n",
    "    }\n",
    "\n",
    "    public String getModel() {\n",
    "        return model;\n",
    "    }\n",
    "\n",
    "    public void setModel(String model) {\n",
    "        this.model = model;\n",
    "    }\n",
    "}"
   ]
  },
  {
   "cell_type": "code",
   "execution_count": null,
   "id": "cc7a1f53-0b0b-4c5d-a92d-e6eb6e6b2ff6",
   "metadata": {},
   "outputs": [],
   "source": []
  },
  {
   "cell_type": "code",
   "execution_count": null,
   "id": "2f1784bc-f3a7-407b-b7a4-2eefb92af36f",
   "metadata": {},
   "outputs": [],
   "source": []
  },
  {
   "cell_type": "code",
   "execution_count": null,
   "id": "8f1d6ed2-6cda-4535-95be-2f2a4ba71bfb",
   "metadata": {},
   "outputs": [],
   "source": []
  },
  {
   "cell_type": "code",
   "execution_count": null,
   "id": "b997b57d-c25f-44af-8800-c6ff52108b49",
   "metadata": {},
   "outputs": [],
   "source": [
    "// Owner.java\n",
    "import java.util.ArrayList;\n",
    "import java.util.Collections;\n",
    "import java.util.List;\n",
    "\n",
    "public class Owner {\n",
    "    private String name;\n",
    "    private List<Car> cars;\n",
    "\n",
    "    public Owner(String name) {\n",
    "        this.name = name;\n",
    "        this.cars = new ArrayList<>(); // Composition\n",
    "    }\n",
    "\n",
    "    // Adds a car and sets the owner of the car\n",
    "    public void addCar(Car car) {\n",
    "        if (car == null) return;\n",
    "        if (!cars.contains(car)) {\n",
    "            cars.add(car);\n",
    "            car.setOwner(this); // Set the bi-directional relationship\n",
    "        }\n",
    "    }\n",
    "\n",
    "    // Removes a car and unsets the owner of the car\n",
    "    public void removeCar(Car car) {\n",
    "        if (car == null) return;\n",
    "        if (cars.contains(car)) {\n",
    "            cars.remove(car);\n",
    "            car.setOwner(null); // Remove the Car -> Owner relationship\n",
    "        }\n",
    "    }\n",
    "\n",
    "    // Getters and Setters\n",
    "    public String getName() {\n",
    "        return name;\n",
    "    }\n",
    "\n",
    "    public void setName(String name) {\n",
    "        this.name = name;\n",
    "    }\n",
    "\n",
    "    /** Returns an unmodifiable view to avoid external mutation. */\n",
    "    public List<Car> getCars() {\n",
    "        return Collections.unmodifiableList(cars);\n",
    "    }\n",
    "\n",
    "    /** Replace all cars; re-wire ownerships accordingly. */\n",
    "    public void setCars(List<Car> cars) {\n",
    "        // clear old links\n",
    "        for (Car c : new ArrayList<>(this.cars)) {\n",
    "            c.setOwner(null);\n",
    "        }\n",
    "        this.cars.clear();\n",
    "\n",
    "        if (cars != null) {\n",
    "            for (Car c : cars) {\n",
    "                addCar(c); // ensures bi-directional link\n",
    "            }\n",
    "        }\n",
    "    }\n",
    "}"
   ]
  },
  {
   "cell_type": "code",
   "execution_count": null,
   "id": "fe587bba-996b-4b58-92a2-233d52418976",
   "metadata": {},
   "outputs": [],
   "source": []
  },
  {
   "cell_type": "code",
   "execution_count": null,
   "id": "45cd515b-eba3-41f0-bee5-ec4b15a0aa76",
   "metadata": {},
   "outputs": [],
   "source": []
  },
  {
   "cell_type": "code",
   "execution_count": null,
   "id": "86e78a42-e76b-463d-9c04-baea626efb98",
   "metadata": {},
   "outputs": [],
   "source": []
  },
  {
   "cell_type": "code",
   "execution_count": 3,
   "id": "2a468aee-b495-4b55-aa55-01db3740612e",
   "metadata": {},
   "outputs": [],
   "source": [
    "public class Object {\n",
    "    private String name;\n",
    "\n",
    "    public Object(String name) {\n",
    "        this.name = name;\n",
    "    }\n",
    "\n",
    "    public String getName() { return name; }\n",
    "\n",
    "    public void setName(String name) { this.name = name; }\n",
    "}"
   ]
  },
  {
   "cell_type": "code",
   "execution_count": null,
   "id": "5900a68f-dd17-4665-bc97-b8ed8a58ce54",
   "metadata": {},
   "outputs": [],
   "source": []
  },
  {
   "cell_type": "code",
   "execution_count": null,
   "id": "1e0e2021-962a-44a9-b6cf-82976f1be2a8",
   "metadata": {},
   "outputs": [],
   "source": []
  },
  {
   "cell_type": "code",
   "execution_count": null,
   "id": "79f719e3-0bd1-46a4-8055-8f3b1ebbe2a1",
   "metadata": {},
   "outputs": [],
   "source": []
  },
  {
   "cell_type": "code",
   "execution_count": 4,
   "id": "6a7ab80a-a373-4fb7-80c0-0324a5dfbee8",
   "metadata": {},
   "outputs": [],
   "source": [
    "// Car.java\n",
    "public class Car {\n",
    "    private String model;\n",
    "    private Person owner; // Reference to the owner\n",
    "\n",
    "    // Constructor\n",
    "    public Car(String model) {\n",
    "        this.model = model;\n",
    "    }\n",
    "\n",
    "    // Getters and Setters\n",
    "    public Person getOwner() {\n",
    "        return owner;\n",
    "    }\n",
    "\n",
    "    public void setOwner(Person owner) {\n",
    "        this.owner = owner;\n",
    "    }\n",
    "\n",
    "    public String getModel() {\n",
    "        return model;\n",
    "    }\n",
    "\n",
    "    public void setModel(String model) {\n",
    "        this.model = model;\n",
    "    }\n",
    "}"
   ]
  },
  {
   "cell_type": "code",
   "execution_count": null,
   "id": "8c384934-2c18-41eb-9e99-cf3b7ce6676f",
   "metadata": {},
   "outputs": [],
   "source": []
  },
  {
   "cell_type": "code",
   "execution_count": null,
   "id": "baaf96cc-afbb-4744-8189-5a6abbfbcb24",
   "metadata": {},
   "outputs": [],
   "source": []
  },
  {
   "cell_type": "code",
   "execution_count": null,
   "id": "8cbaa141-98f6-4327-9b5b-d281f14c63f3",
   "metadata": {},
   "outputs": [],
   "source": []
  },
  {
   "cell_type": "code",
   "execution_count": 5,
   "id": "d86e7b3a-684b-4459-9e7c-4f28d1a73b98",
   "metadata": {},
   "outputs": [],
   "source": [
    "// Owner.java\n",
    "import java.util.ArrayList;\n",
    "import java.util.Collections;\n",
    "import java.util.List;\n",
    "\n",
    "public class Owner extends Person {\n",
    "    private final List<Car> cars = new ArrayList<>();\n",
    "\n",
    "    public Owner(String name) { super(name); }\n",
    "\n",
    "    public void addCar(Car car) {\n",
    "        if (car == null) return;\n",
    "        if (!cars.contains(car)) {\n",
    "            cars.add(car);\n",
    "            car.setOwner(this); // bi-directional link\n",
    "        }\n",
    "    }\n",
    "\n",
    "    public void removeCar(Car car) {\n",
    "        if (car == null) return;\n",
    "        if (cars.remove(car)) {\n",
    "            car.setOwner(null); // break link\n",
    "        }\n",
    "    }\n",
    "\n",
    "    public List<Car> getCars() {\n",
    "        return Collections.unmodifiableList(cars);\n",
    "    }\n",
    "\n",
    "    public void setCars(List<Car> cars) {\n",
    "        for (Car c : new ArrayList<>(this.cars)) c.setOwner(null);\n",
    "        this.cars.clear();\n",
    "        if (cars != null) for (Car c : cars) addCar(c);\n",
    "    }\n",
    "}"
   ]
  },
  {
   "cell_type": "code",
   "execution_count": 6,
   "id": "21a108dc-daf0-4436-8d32-c4e12b514460",
   "metadata": {},
   "outputs": [],
   "source": [
    "public class Main {\n",
    "    public static void main(String[] args) {\n",
    "        Owner owner = new Owner(\"John Doe\");\n",
    "        Car car1 = new Car(\"Toyota\");\n",
    "        Car car2 = new Car(\"Honda\");\n",
    "\n",
    "        // Add cars to the owner\n",
    "        owner.addCar(car1); // Updates car1 object. Sets car1.owner to \"this\"\n",
    "        owner.addCar(car2); // Updates car2 object. Sets car2.owner to \"this\"\n",
    "\n",
    "        // Access the cars of the owner\n",
    "        System.out.println(owner.getName() + \" owns the following cars:\");\n",
    "        for (Car car : owner.getCars()) {\n",
    "            System.out.println(car.getModel());\n",
    "        }\n",
    "\n",
    "        // Access the owner of a car\n",
    "        System.out.println(\n",
    "            car1.getModel() + \" is owned by \" +\n",
    "            (car1.getOwner() != null ? car1.getOwner().getName() : \"no one\")\n",
    "        );\n",
    "\n",
    "        // Remove a car from the owner\n",
    "        owner.removeCar(car1);\n",
    "        System.out.println(\"After removing the Toyota, \" + owner.getName() + \" owns:\");\n",
    "        for (Car car : owner.getCars()) {\n",
    "            System.out.println(car.getModel());\n",
    "        }\n",
    "    }\n",
    "}"
   ]
  },
  {
   "cell_type": "code",
   "execution_count": 7,
   "id": "cc5bbe43-3686-4c3a-aeb0-26acbb1e091b",
   "metadata": {},
   "outputs": [
    {
     "name": "stdout",
     "output_type": "stream",
     "text": [
      "John Doe owns the following cars:\n",
      "Toyota\n",
      "Honda\n",
      "Toyota is owned by John Doe\n",
      "After removing the Toyota, John Doe owns:\n",
      "Honda\n"
     ]
    }
   ],
   "source": [
    "Main.main(null);"
   ]
  },
  {
   "cell_type": "markdown",
   "id": "3ed2cea2-5760-428e-844a-bb0c6c4ea416",
   "metadata": {},
   "source": [
    "# Inheritance: Liskov Substitution Principle"
   ]
  },
  {
   "cell_type": "code",
   "execution_count": null,
   "id": "06df7bae-12dd-41ad-9feb-329eba537027",
   "metadata": {},
   "outputs": [],
   "source": []
  },
  {
   "cell_type": "code",
   "execution_count": null,
   "id": "aaaba673-1e12-4f66-9219-472f07dec669",
   "metadata": {},
   "outputs": [],
   "source": []
  },
  {
   "cell_type": "code",
   "execution_count": 1,
   "id": "b62ecee0-7118-4768-ba2e-d651f5fd144d",
   "metadata": {},
   "outputs": [],
   "source": [
    "interface Shape {\n",
    "    int area();\n",
    "}\n",
    "\n",
    "final class Rectangle implements Shape {\n",
    "    private final int width, height;\n",
    "    Rectangle(int width, int height) { this.width = width; this.height = height; }\n",
    "    @Override public int area() { return width * height; }\n",
    "}\n",
    "\n",
    "final class Square implements Shape {\n",
    "    private final int side;\n",
    "    Square(int side) { this.side = side; }\n",
    "    @Override public int area() { return side * side; }\n",
    "}\n",
    "\n",
    "class Client {\n",
    "    static int printDoubleArea(Shape s) {\n",
    "        int a = s.area();           // Works for any Shape\n",
    "        System.out.println(\"area = \" + a);\n",
    "        return 2 * a;\n",
    "    }\n",
    "\n",
    "    public static void main(String[] args) {\n",
    "        printDoubleArea(new Rectangle(5, 4)); // ok\n",
    "        printDoubleArea(new Square(5));       // ok\n",
    "    }\n",
    "}"
   ]
  },
  {
   "cell_type": "code",
   "execution_count": 2,
   "id": "cc153399-e2eb-4deb-bf85-444732eed48e",
   "metadata": {},
   "outputs": [
    {
     "name": "stdout",
     "output_type": "stream",
     "text": [
      "area = 20\n",
      "area = 25\n"
     ]
    }
   ],
   "source": [
    "Client.main(null);"
   ]
  },
  {
   "cell_type": "markdown",
   "id": "409eb196-3135-4d21-8236-5dd7eec49e3d",
   "metadata": {},
   "source": [
    "# Why this satisfies LSP:\n",
    "The client only assumes “a shape has an area().” Both Rectangle and Square fulfill that contract without adding hidden constraints or changing expected behavior."
   ]
  },
  {
   "cell_type": "code",
   "execution_count": null,
   "id": "35aaca2a-7b90-440c-96c1-c8da7ea813dd",
   "metadata": {},
   "outputs": [],
   "source": []
  },
  {
   "cell_type": "code",
   "execution_count": 4,
   "id": "5c421d7a-af54-4d65-92ea-a6f6a5b21f5e",
   "metadata": {},
   "outputs": [],
   "source": [
    "class RectangleBad {\n",
    "    protected int width, height;\n",
    "    public void setWidth(int w)  { this.width = w; }\n",
    "    public void setHeight(int h) { this.height = h; }\n",
    "    public int area()            { return width * height; }\n",
    "}\n",
    "\n",
    "class SquareBad extends RectangleBad {\n",
    "    @Override public void setWidth(int w)  { this.width = this.height = w; }\n",
    "    @Override public void setHeight(int h) { this.width = this.height = h; }\n",
    "}\n",
    "\n",
    "class ClientBad {\n",
    "    // Client expects width and height to be independent for any RectangleBad\n",
    "    static int resizeTo(RectangleBad r) {\n",
    "        r.setWidth(5);\n",
    "        r.setHeight(4);\n",
    "        return r.area();     // expects 20\n",
    "    }\n",
    "\n",
    "    public static void main(String[] args) {\n",
    "        System.out.println(resizeTo(new RectangleBad())); // 20 ✅\n",
    "        System.out.println(resizeTo(new SquareBad()));    // 16 ❌ expectation broken\n",
    "    }\n",
    "}"
   ]
  },
  {
   "cell_type": "code",
   "execution_count": 5,
   "id": "6c8423b8-69a1-49ba-b98a-062c96823198",
   "metadata": {},
   "outputs": [
    {
     "name": "stdout",
     "output_type": "stream",
     "text": [
      "20\n",
      "16\n"
     ]
    }
   ],
   "source": [
    "ClientBad.main(null);"
   ]
  },
  {
   "cell_type": "markdown",
   "id": "97577a36-3bb1-44e3-ae19-a450ab20ed8a",
   "metadata": {},
   "source": [
    "# Why this violates LSP:\n",
    "The client’s valid assumption for the base type—“setWidth and setHeight are independent”—isn’t true for the subtype SquareBad. Substituting SquareBad changes observable behavior (area becomes 16 instead of 20), so LSP is broken."
   ]
  },
  {
   "cell_type": "markdown",
   "id": "54a514ed-7e57-4845-bbcb-0a11707ca784",
   "metadata": {},
   "source": [
    "# Question: Does method overloading breaks LSB?"
   ]
  },
  {
   "cell_type": "code",
   "execution_count": null,
   "id": "0218666c-2e4a-4be6-8054-aedada021430",
   "metadata": {},
   "outputs": [],
   "source": []
  },
  {
   "cell_type": "code",
   "execution_count": null,
   "id": "72bc5551-0737-4b77-a562-292c9949f94d",
   "metadata": {},
   "outputs": [],
   "source": []
  },
  {
   "cell_type": "code",
   "execution_count": 15,
   "id": "6a91b225-aef9-48f5-a2e4-1c82970044c6",
   "metadata": {},
   "outputs": [],
   "source": [
    "class Base {\n",
    "    void process(String data) { System.out.println(data);}\n",
    "}\n",
    "\n",
    "class Sub extends Base {\n",
    "    void process(String data, int count) { }\n",
    "}"
   ]
  },
  {
   "cell_type": "code",
   "execution_count": 17,
   "id": "a438c165-71eb-4b6c-a671-2a2631911ef5",
   "metadata": {},
   "outputs": [
    {
     "name": "stdout",
     "output_type": "stream",
     "text": [
      "hello\n"
     ]
    }
   ],
   "source": [
    "Base b = new Sub();\n",
    "b.process(\"hello\");  "
   ]
  },
  {
   "cell_type": "markdown",
   "id": "1be588db-e77e-4b13-8297-31c9aca2a986",
   "metadata": {},
   "source": [
    "Does this break LSP?\n",
    "\t•\tNot automatically. Since Java doesn’t allow “changing” the inherited method’s parameters, the base contract is still valid: the subclass must still provide the original method. However, Check the following example"
   ]
  },
  {
   "cell_type": "code",
   "execution_count": 11,
   "id": "3915893a-8dfa-458d-8458-d90e5421fd7a",
   "metadata": {},
   "outputs": [],
   "source": [
    "class Base {\n",
    "    void save(String data) {\n",
    "        System.out.println(\"Saving: \" + data);\n",
    "    }\n",
    "}\n",
    "\n",
    "class Sub extends Base {\n",
    "    // override but add hidden requirements\n",
    "    @Override\n",
    "    void save(String data) {\n",
    "        if (data == null) throw new IllegalArgumentException(\"Data must not be null\"); \n",
    "        // stricter precondition than Base (bad)\n",
    "        System.out.println(\"Saving safely: \" + data);\n",
    "    }\n",
    "}"
   ]
  },
  {
   "cell_type": "code",
   "execution_count": 13,
   "id": "009a2de9-6d46-4162-94c4-2bbe4e0860ea",
   "metadata": {},
   "outputs": [
    {
     "name": "stdout",
     "output_type": "stream",
     "text": [
      "Saving: hello\n"
     ]
    }
   ],
   "source": [
    "Base b = new Sub();\n",
    "b.save(\"hello\");  "
   ]
  },
  {
   "cell_type": "markdown",
   "id": "99f1e687-206b-462f-9049-5d6106dd8716",
   "metadata": {},
   "source": [
    "Here, Sub is stricter than Base—LSP is broken.\n",
    "\n",
    "## Rule of thumb\n",
    "\t•\tChanging method signature → overloading, not overriding → LSP is safe (as long as original behavior is untouched).\n",
    "\t•\tChanging behavior of the original method (weaken postconditions or strengthen preconditions) → can break LSP.\n"
   ]
  },
  {
   "cell_type": "code",
   "execution_count": null,
   "id": "12dab6fe-4ee0-422d-b9d8-eb7742756dd3",
   "metadata": {},
   "outputs": [],
   "source": []
  },
  {
   "cell_type": "markdown",
   "id": "72613663-97af-4928-8374-fdf34579805e",
   "metadata": {},
   "source": [
    "# Static Attributes and Variables"
   ]
  },
  {
   "cell_type": "markdown",
   "id": "136f8b5b-914e-4dd9-a8f4-b14870869a60",
   "metadata": {},
   "source": [
    "In Java (and most OOP languages):\n",
    "- A static attribute (also called a class variable) belongs to the class itself, not to individual instances (objects).\n",
    "- This means:\n",
    "- There is only one copy of the static attribute, shared by all objects of that class.\n",
    "- Changing it through one object will affect all other objects of that class, because they all refer to the same memory location.\n",
    "- It can be accessed without creating an object, using the class name."
   ]
  },
  {
   "cell_type": "code",
   "execution_count": 32,
   "id": "ed693fd8-b691-4c88-baa7-78e4d785e8b7",
   "metadata": {},
   "outputs": [],
   "source": [
    "class Counter {\n",
    "    static int count = 0;   // static attribute\n",
    "\n",
    "    public Counter() {\n",
    "        if(count > 0){return;}\n",
    "        count++; // every time a new object is created, count increases\n",
    "    }\n",
    "}\n",
    "\n"
   ]
  },
  {
   "cell_type": "code",
   "execution_count": 33,
   "id": "9ad26416-b6ef-45a3-bc9e-604dbae8dd21",
   "metadata": {},
   "outputs": [
    {
     "name": "stdout",
     "output_type": "stream",
     "text": [
      "1\n"
     ]
    }
   ],
   "source": [
    "new Counter();\n",
    "new Counter();\n",
    "new Counter();\n",
    "\n",
    "System.out.println(Counter.count); // prints 3"
   ]
  },
  {
   "cell_type": "markdown",
   "id": "b6308615-c27c-4c22-9ac9-9ee2927ace1d",
   "metadata": {},
   "source": [
    " ## Static Methods\n",
    "- A static method belongs to the class itself, not to any particular instance.\n",
    "- You can call it without creating an object, using the class name.\n",
    "- It cannot access instance variables or instance methods directly, because it doesn’t know which object’s state to use (it has no this reference)."
   ]
  },
  {
   "cell_type": "code",
   "execution_count": 39,
   "id": "b904048f-08b2-457e-ad13-4982c100898d",
   "metadata": {},
   "outputs": [],
   "source": [
    "class MathUtils {\n",
    "    // static method\n",
    "    public static int add(int a, int b) {\n",
    "        return a + b;\n",
    "    }\n",
    "\n",
    "    // instance method\n",
    "    public int multiply(int a, int b) {\n",
    "        return a * b;\n",
    "    }\n",
    "}\n",
    "\n"
   ]
  },
  {
   "cell_type": "code",
   "execution_count": 40,
   "id": "f0dc6a72-97b1-4634-b9c7-d3ee3b176179",
   "metadata": {},
   "outputs": [
    {
     "name": "stdout",
     "output_type": "stream",
     "text": [
      "8\n",
      "15\n"
     ]
    }
   ],
   "source": [
    "\n",
    "System.out.println(MathUtils.add(5, 3)); // ✅ prints 8\n",
    "\n",
    "        // Call instance method (needs object)\n",
    "MathUtils utils = new MathUtils();\n",
    "System.out.println(utils.multiply(5, 3)); // ✅ prints 15"
   ]
  },
  {
   "cell_type": "markdown",
   "id": "d5843837-b9ee-4a60-9b93-29e192264866",
   "metadata": {},
   "source": [
    "## One example of standard Java"
   ]
  },
  {
   "cell_type": "code",
   "execution_count": 42,
   "id": "dbef9f9e-8898-44c2-b0ae-f22447017a4a",
   "metadata": {},
   "outputs": [
    {
     "data": {
      "text/plain": [
       "5.0"
      ]
     },
     "execution_count": 42,
     "metadata": {},
     "output_type": "execute_result"
    }
   ],
   "source": [
    "Math.sqrt(25);"
   ]
  },
  {
   "cell_type": "code",
   "execution_count": null,
   "id": "3b0fdcbf-0a57-4150-90b2-a12d3602f648",
   "metadata": {},
   "outputs": [],
   "source": []
  }
 ],
 "metadata": {
  "kernelspec": {
   "display_name": "Java",
   "language": "java",
   "name": "java"
  },
  "language_info": {
   "codemirror_mode": "java",
   "file_extension": ".jshell",
   "mimetype": "text/x-java-source",
   "name": "Java",
   "pygments_lexer": "java",
   "version": "23.0.1+11-39"
  }
 },
 "nbformat": 4,
 "nbformat_minor": 5
}
